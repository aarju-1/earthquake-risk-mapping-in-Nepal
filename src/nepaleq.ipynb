{
 "cells": [
  {
   "cell_type": "code",
   "execution_count": 9,
   "id": "184b66d0",
   "metadata": {},
   "outputs": [
    {
     "name": "stdout",
     "output_type": "stream",
     "text": [
      "✅ Data scraping complete. Total records: 1256\n"
     ]
    }
   ],
   "source": [
    "from selenium import webdriver\n",
    "from selenium.webdriver.chrome.service import Service\n",
    "from selenium.webdriver.common.by import By\n",
    "import time\n",
    "import pandas as pd\n",
    "\n",
    "website = 'https://seismonepal.gov.np/earthquakes'\n",
    "path = r\"D:\\chromedriver-win32\\chromedriver-win32\\chromedriver.exe\"\n",
    "service = Service(path)\n",
    "driver = webdriver.Chrome(service=service)\n",
    "driver.get(website)\n",
    "\n",
    "# --- create lists to store data ---\n",
    "Date = []\n",
    "Time = []\n",
    "Latitude = []\n",
    "Longitude = []\n",
    "Magnitude = []\n",
    "Epicenter = []\n",
    "\n",
    "# loop through 63 pages\n",
    "for page in range(63):\n",
    "    rows = driver.find_elements(By.XPATH, \"//tr[@data-key]\")\n",
    "    \n",
    "    for row in rows:\n",
    "        # get data for this row only\n",
    "        Date.append(row.find_element(By.XPATH, \"./td[2]\").text.strip())\n",
    "        Time.append(row.find_element(By.XPATH, \"./td[3]\").text.strip())\n",
    "        Latitude.append(row.find_element(By.XPATH, \"./td[4]\").text.strip())\n",
    "        Longitude.append(row.find_element(By.XPATH, \"./td[5]\").text.strip())\n",
    "        Magnitude.append(row.find_element(By.XPATH, \"./td[6]\").text.strip())\n",
    "        Epicenter.append(row.find_element(By.XPATH, \"./td[7]/a\").text.strip())\n",
    "\n",
    "    \n",
    "    # move to next page if not last\n",
    "    if page < 62:\n",
    "        next_btn = driver.find_element(By.XPATH, \"//a[contains(text(),'»')]\")\n",
    "        next_btn.click()\n",
    "        time.sleep(2)  # wait for next page to load\n",
    "\n",
    "driver.quit()\n",
    "    \n",
    "data = {\n",
    "    \"Date\": Date,\n",
    "    \"Time\": Time,\n",
    "    \"Latitude\": Latitude,\n",
    "    \"Longitude\": Longitude,\n",
    "    \"Magnitude\": Magnitude,\n",
    "    \"Epicenter\": Epicenter\n",
    "}\n",
    "\n",
    "df = pd.DataFrame(data)\n",
    "\n",
    "\n",
    "\n",
    "# Optional: save to CSV\n",
    "df.to_csv(r\"D:\\Projects\\GIS\\earthquake-risk-mapping-in-Nepal\\data\\earthquakes.csv\", index=False, encoding=\"utf-8\")\n",
    "\n",
    "print(\"✅ Data scraping complete. Total records:\", len(df))\n",
    "\n",
    "\n",
    "\n",
    "\n"
   ]
  }
 ],
 "metadata": {
  "kernelspec": {
   "display_name": "Python 3",
   "language": "python",
   "name": "python3"
  },
  "language_info": {
   "codemirror_mode": {
    "name": "ipython",
    "version": 3
   },
   "file_extension": ".py",
   "mimetype": "text/x-python",
   "name": "python",
   "nbconvert_exporter": "python",
   "pygments_lexer": "ipython3",
   "version": "3.11.3"
  }
 },
 "nbformat": 4,
 "nbformat_minor": 5
}
