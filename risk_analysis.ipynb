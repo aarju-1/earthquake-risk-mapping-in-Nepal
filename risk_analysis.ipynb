{
 "cells": [
  {
   "cell_type": "code",
   "execution_count": null,
   "id": "3d125854",
   "metadata": {},
   "outputs": [],
   "source": [
    "import geopandas as gpd\n",
    "import pandas as pd\n",
    "import numpy as np\n",
    "import rasterio\n",
    "import folium\n",
    "from rasterio.plot import reshape_as_image\n",
    "import branca.colormap as cm\n",
    "from rasterio.transform import from_origin\n",
    "from shapely.geometry import Point"
   ]
  },
  {
   "cell_type": "markdown",
   "id": "7780c1b3",
   "metadata": {},
   "source": [
    "Reads earthquake data, creates a geodataframe, and projects it to UTM for spatial analysis."
   ]
  },
  {
   "cell_type": "code",
   "execution_count": 2,
   "id": "e488c70f",
   "metadata": {},
   "outputs": [],
   "source": [
    "# Earthquake CSV (must have lat, lon, magnitude)\n",
    "eq = pd.read_excel(r\"D:\\Projects\\GIS\\earthquake-risk-mapping-in-Nepal\\data\\cearthquakes.xlsx\")  # columns: lat, lon, mag\n",
    "gdf = gpd.GeoDataFrame(eq, geometry=gpd.points_from_xy(eq.Longitude, eq.Latitude), crs=\"EPSG:4326\")\n",
    "gdf = gdf.to_crs(epsg=32645)  # UTM for Nepal (meters)\n"
   ]
  },
  {
   "cell_type": "code",
   "execution_count": null,
   "id": "7b2fd5f5",
   "metadata": {},
   "outputs": [],
   "source": [
    "gdf.head()"
   ]
  },
  {
   "cell_type": "markdown",
   "id": "407a2cd0",
   "metadata": {},
   "source": [
    "Defines spatial grid for hazard calculation."
   ]
  },
  {
   "cell_type": "code",
   "execution_count": 13,
   "id": "106da3b3",
   "metadata": {},
   "outputs": [],
   "source": [
    "# Define bounds and resolution\n",
    "xmin, ymin, xmax, ymax = gdf.total_bounds\n",
    "pixel_size = 1000# meters\n",
    "n_cols = int((xmax - xmin) / pixel_size)\n",
    "n_rows = int((ymax - ymin) / pixel_size)\n",
    "\n",
    "# Create grid coordinates\n",
    "x = np.linspace(xmin + pixel_size/2, xmax - pixel_size/2, n_cols)\n",
    "y = np.linspace(ymax - pixel_size/2, ymin + pixel_size/2, n_rows)  # top to bottom\n",
    "xx, yy = np.meshgrid(x, y)\n",
    "hazard_grid = np.zeros_like(xx)\n"
   ]
  },
  {
   "cell_type": "code",
   "execution_count": 14,
   "id": "bdf5e322",
   "metadata": {},
   "outputs": [],
   "source": [
    "#smaller the decay value, the wider the spread of intensity and vice versa\n",
    "decay = 2\n",
    "\n",
    "for idx, row in gdf.iterrows():\n",
    "    #  calculates Epicenter coordinates\n",
    "    ex, ey = row.geometry.x, row.geometry.y\n",
    "    mag = row['Magnitude']\n",
    "    \n",
    "    # Distance from epicenter to all grid cells\n",
    "    dist = np.sqrt((xx - ex)**2 + (yy - ey)**2)\n",
    "    \n",
    "    # Add intensity contribution\n",
    "    #Converts distance and magnitude into a hazard value\n",
    "    hazard_grid += mag / (dist/1000 + 1)**decay  # dist in km"
   ]
  },
  {
   "cell_type": "code",
   "execution_count": 15,
   "id": "5f16b44b",
   "metadata": {},
   "outputs": [],
   "source": [
    "#Normalization of hazard values between 0 and 1\n",
    "hazard_grid_norm = (hazard_grid - hazard_grid.min()) / (hazard_grid.max() - hazard_grid.min())\n"
   ]
  },
  {
   "cell_type": "code",
   "execution_count": 16,
   "id": "b03f23fc",
   "metadata": {},
   "outputs": [],
   "source": [
    "# Open population raster (WorldPop)\n",
    "pop_raster = r\"D:\\Projects\\GIS\\earthquake-risk-mapping-in-Nepal\\data\\npl_pop_2025_CN_100m_R2025A_v1.tif\"\n",
    "with rasterio.open(pop_raster) as pop_src: #safeway to open and close file\n",
    "    pop_data = pop_src.read(1) #reads actual pixel value from file, reads only 1st layer\n",
    "    pop_data = np.where(pop_data < 0, 0, pop_data)\n",
    "    pop_transform = pop_src.transform      #for georeferencing\n",
    "    pop_crs = pop_src.crs\n",
    "\n",
    "    # Simple resample to match hazard grid size (use nearest for simplicity)\n",
    "    %pip install -q scikit-image\n",
    "    from skimage.transform import resize\n",
    "    pop_resampled = resize(pop_data, hazard_grid_norm.shape, order=0, preserve_range=True) \n",
    "    #Takes population data and resizes it to match the hazard grid shape\n",
    "    \n",
    "\n"
   ]
  },
  {
   "cell_type": "markdown",
   "id": "23b81560",
   "metadata": {},
   "source": [
    "After above code runs I have two grids hazard_grid_norm and pop_resampled that are perfectly aligned.\n"
   ]
  },
  {
   "cell_type": "code",
   "execution_count": null,
   "id": "9176e728",
   "metadata": {},
   "outputs": [],
   "source": [
    "#Multiplies hazard and population to estimate exposed population per grid cell and sums it up.\n",
    "exposure = hazard_grid_norm * pop_resampled\n",
    "total_exposed = exposure.sum()\n",
    "print(f\"Estimated exposed population: {int(total_exposed)}\")\n"
   ]
  },
  {
   "cell_type": "code",
   "execution_count": 31,
   "id": "48cb2f9e",
   "metadata": {},
   "outputs": [],
   "source": [
    "transform = from_origin(xmin, ymax, pixel_size, pixel_size)\n",
    "with rasterio.open(\n",
    "    \"hazard_intensity.tif\", \"w\",           #open and writes tif file\n",
    "    driver=\"GTiff\",\n",
    "    height=hazard_grid_norm.shape[0],\n",
    "    width=hazard_grid_norm.shape[1],\n",
    "    count=1,\n",
    "    dtype='float32',\n",
    "    crs='EPSG:32645',\n",
    "    transform=transform\n",
    ") as dst:\n",
    "    dst.write(hazard_grid_norm.astype('float32'), 1)\n",
    "\n",
    "with rasterio.open(\n",
    "    \"exposure.tif\", \"w\",\n",
    "    driver=\"GTiff\",\n",
    "    height=exposure.shape[0],\n",
    "    width=exposure.shape[1],\n",
    "    count=1,\n",
    "    dtype='float32',\n",
    "    crs='EPSG:32645',\n",
    "    transform=transform\n",
    ") as dst:\n",
    "    dst.write(exposure.astype('float32'), 1)\n"
   ]
  },
  {
   "cell_type": "code",
   "execution_count": 32,
   "id": "eafecea1",
   "metadata": {},
   "outputs": [],
   "source": [
    "from rasterstats import zonal_stats\n",
    "import geopandas as gpd\n",
    "\n",
    "# Load district shapefile\n",
    "districts = gpd.read_file(r\"D:\\Projects\\GIS\\earthquake-risk-mapping-in-Nepal\\data\\Nepal Districts Shapefile Download\\03_DISTRICT\\DISTRICT.shp\")\n",
    "districts = districts.to_crs(\"EPSG:32645\")  # Match raster CRS\n",
    "\n",
    "# Hazard stats (per district)\n",
    "haz_stats = zonal_stats(districts, \"hazard_intensity.tif\", stats=[\"mean\", \"max\"], geojson_out=True)\n",
    "\n",
    "# Exposure stats (per district)\n",
    "exp_stats = zonal_stats(districts, \"exposure.tif\", stats=[\"sum\"], geojson_out=True)\n",
    "\n",
    "# Attach stats to GeoDataFrame\n",
    "districts[\"hazard_mean\"] = [f[\"properties\"][\"mean\"] for f in haz_stats]\n",
    "districts[\"hazard_max\"] = [f[\"properties\"][\"max\"] for f in haz_stats]\n",
    "districts[\"exposed_pop\"] = [f[\"properties\"][\"sum\"] for f in exp_stats]\n",
    "\n",
    "# Simple Risk Index\n",
    "districts[\"risk_index\"] = districts[\"hazard_mean\"] * districts[\"exposed_pop\"]\n"
   ]
  },
  {
   "cell_type": "code",
   "execution_count": 33,
   "id": "31b3edd6",
   "metadata": {},
   "outputs": [],
   "source": [
    "districts"
   ]
  },
  {
   "cell_type": "code",
   "execution_count": 45,
   "id": "b8ae7570",
   "metadata": {},
   "outputs": [],
   "source": [
    "\n",
    "\n",
    "# Calculate population sum per district\n",
    "pop_stats = zonal_stats(\n",
    "    districts, \n",
    "    r\"D:\\Projects\\GIS\\earthquake-risk-mapping-in-Nepal\\data\\npl_pop_2025_CN_100m_R2025A_v1.tif\",\n",
    "    stats=[\"sum\"], \n",
    "    geojson_out=True\n",
    ")\n",
    "\n",
    "# Add population to GeoDataFrame\n",
    "districts[\"population\"] = [f[\"properties\"][\"sum\"] for f in pop_stats]\n"
   ]
  },
  {
   "cell_type": "code",
   "execution_count": 46,
   "id": "bd28feae",
   "metadata": {},
   "outputs": [],
   "source": [
    "# Exposed population = population * normalized hazard (0-1)\n",
    "districts[\"hazard_norm\"] = districts[\"hazard_mean\"] / districts[\"hazard_mean\"].max()\n",
    "\n",
    "# Total exposed population\n",
    "total_exposed = districts[\"exposed_pop\"].sum()\n",
    "print(f\"Estimated exposed population: {int(total_exposed)}\")\n"
   ]
  },
  {
   "cell_type": "code",
   "execution_count": 39,
   "id": "e127a045",
   "metadata": {},
   "outputs": [],
   "source": [
    "districts[\"risk_index\"] = districts[\"hazard_mean\"] * districts[\"exposed_pop\"]\n"
   ]
  },
  {
   "cell_type": "code",
   "execution_count": 41,
   "id": "8c34512f",
   "metadata": {},
   "outputs": [],
   "source": [
    "# Normalize risk index for visualization (0-1)\n",
    "districts[\"risk_norm\"] = (districts[\"risk_index\"] - districts[\"risk_index\"].min()) / (districts[\"risk_index\"].max() - districts[\"risk_index\"].min())"
   ]
  },
  {
   "cell_type": "code",
   "execution_count": 42,
   "id": "84fbcfe0",
   "metadata": {},
   "outputs": [],
   "source": [
    "# Ensure the districts GeoDataFrame has a CRS first (UTM 32645)\n",
    "districts = districts.set_crs(epsg=32645, allow_override=True)\n",
    "\n",
    "# Convert to latitude/longitude\n",
    "districts = districts.to_crs(epsg=4326)\n",
    "\n",
    "# Now the geometries are in lat/lon\n",
    "print(districts.geometry.head())\n",
    "print(districts.geometry.total_bounds)  # should be roughly [80,26,88,30] for Nepal\n"
   ]
  },
  {
   "cell_type": "code",
   "execution_count": null,
   "id": "2fb1b00a",
   "metadata": {},
   "outputs": [],
   "source": [
    "\n",
    "\n",
    "\n",
    "nepal_bounds = districts.total_bounds\n",
    "print(nepal_bounds)\n",
    "\n",
    "\n",
    "#  Make sure risk_norm exists and is 0-1\n",
    "districts[\"risk_norm\"] = (districts[\"risk_index\"] - districts[\"risk_index\"].min()) / \\\n",
    "                         (districts[\"risk_index\"].max() - districts[\"risk_index\"].min())\n",
    "districts[\"risk_norm\"] = districts[\"risk_norm\"].fillna(0).clip(0,1)\n",
    "\n",
    "\n",
    "#  Create Folium map\n",
    "m = folium.Map(location=[28.2, 84.0], zoom_start=7, tiles=\"CartoDB positron\")\n",
    "m.fit_bounds([[nepal_bounds[1], nepal_bounds[0]], [nepal_bounds[3], nepal_bounds[2]]])\n",
    "\n",
    "colors= [\"#f0f0f0\", \"#ffffb2\", \"#fecc5c\", \"#fd8d3c\", \"#e31a1c\", \"#800026\"]\n",
    "colormap = cm.LinearColormap(colors=colors, vmin=0, vmax=1, caption=\"Earthquake Risk Index\")\n",
    "\n",
    "folium.GeoJson(\n",
    "    districts,\n",
    "    style_function=lambda x: {\n",
    "        \"fillColor\": colormap(x[\"properties\"][\"risk_norm\"]),\n",
    "        \"color\": \"black\",\n",
    "        \"weight\": 1,\n",
    "        \"fillOpacity\": 0.8\n",
    "    },\n",
    "    tooltip=folium.GeoJsonTooltip(\n",
    "        fields=[\"DISTRICT\", \"population\", \"hazard_mean\", \"exposed_pop\", \"risk_index\"],\n",
    "        aliases=[\"District:\", \"Population:\", \"Mean Hazard:\", \"Exposed Pop:\", \"Risk Index:\"],\n",
    "        localize=True,\n",
    "        sticky=True,\n",
    "        labels=True\n",
    "    )\n",
    ").add_to(m)\n",
    "\n",
    "colormap.add_to(m)\n",
    "m.save(\"earthquake_risk_map.html\")\n",
    "print(\"✅ Map saved. Nepal districts should now appear.\")\n",
    "\n",
    "\n"
   ]
  }
 ],
 "metadata": {
  "kernelspec": {
   "display_name": "Python 3",
   "language": "python",
   "name": "python3"
  },
  "language_info": {
   "codemirror_mode": {
    "name": "ipython",
    "version": 3
   },
   "file_extension": ".py",
   "mimetype": "text/x-python",
   "name": "python",
   "nbconvert_exporter": "python",
   "pygments_lexer": "ipython3",
   "version": "3.11.3"
  }
 },
 "nbformat": 4,
 "nbformat_minor": 5
}
